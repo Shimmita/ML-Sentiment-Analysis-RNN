{
 "cells": [
  {
   "cell_type": "code",
   "execution_count": 4,
   "id": "fbf18ffe",
   "metadata": {},
   "outputs": [],
   "source": [
    "import os\n",
    "import pickle\n",
    "from tensorflow.keras.layers import TextVectorization\n",
    "import tensorflow as tf\n",
    "import numpy as np\n",
    "import pandas as pd\n",
    "import gradio as gr\n"
   ]
  },
  {
   "cell_type": "code",
   "execution_count": 2,
   "id": "96140bb0",
   "metadata": {},
   "outputs": [
    {
     "name": "stderr",
     "output_type": "stream",
     "text": [
      "2024-06-02 17:23:45.498407: W external/local_tsl/tsl/framework/cpu_allocator_impl.cc:83] Allocation of 253720368 exceeds 10% of free system memory.\n"
     ]
    }
   ],
   "source": [
    "\n",
    "df=pd.read_csv(os.path.join('data', 'train.csv'))\n",
    "\n",
    "\n",
    "#defining the Independent variables(Features) X from the depenedent varaiable Y\n",
    "X=df['comment_text'].values # the independent variable\n",
    "y=df[df.columns[2:]].values # dependent variables\n",
    "\n",
    "#init maxima words that would be held as vocabs; many words increase model accuracy whilst slowing training process\n",
    "MAX_VOCAB=200000 \n",
    "\n",
    "# init textVectorisation that will be used to map text features into respective integer values\n",
    "vectorizer=TextVectorization(max_tokens=MAX_VOCAB,output_sequence_length=2000,output_mode='int')\n",
    "\n",
    "# make the vactorizer learn words from the X features\n",
    "vectorizer.adapt(X)\n",
    "\n",
    "text_vectorized=vectorizer('hey man your ugly face is annoying')\n",
    "\n",
    "model=tf.keras.models.load_model(\n",
    "    os.path.join('models', 'RNN_Toxic_Comment_tf_model.h5'),\n",
    "    custom_objects=None, compile=False)"
   ]
  },
  {
   "cell_type": "code",
   "execution_count": 7,
   "id": "a607373b",
   "metadata": {},
   "outputs": [
    {
     "name": "stdout",
     "output_type": "stream",
     "text": [
      "Running on local URL:  http://127.0.0.1:7862\n",
      "\n",
      "Could not create share link. Missing file: /home/shimmian/anaconda3/lib/python3.11/site-packages/gradio/frpc_linux_amd64_v0.2. \n",
      "\n",
      "Please check your internet connection. This can happen if your antivirus software blocks the download of this file. You can install manually by following these steps: \n",
      "\n",
      "1. Download this file: https://cdn-media.huggingface.co/frpc-gradio-0.2/frpc_linux_amd64\n",
      "2. Rename the downloaded file to: frpc_linux_amd64_v0.2\n",
      "3. Move the file to this location: /home/shimmian/anaconda3/lib/python3.11/site-packages/gradio\n"
     ]
    },
    {
     "data": {
      "text/html": [
       "<div><iframe src=\"http://127.0.0.1:7862/\" width=\"100%\" height=\"500\" allow=\"autoplay; camera; microphone; clipboard-read; clipboard-write;\" frameborder=\"0\" allowfullscreen></iframe></div>"
      ],
      "text/plain": [
       "<IPython.core.display.HTML object>"
      ]
     },
     "metadata": {},
     "output_type": "display_data"
    },
    {
     "data": {
      "text/plain": []
     },
     "execution_count": 7,
     "metadata": {},
     "output_type": "execute_result"
    },
    {
     "name": "stdout",
     "output_type": "stream",
     "text": [
      "\u001b[1m1/1\u001b[0m \u001b[32m━━━━━━━━━━━━━━━━━━━━\u001b[0m\u001b[37m\u001b[0m \u001b[1m0s\u001b[0m 114ms/step\n"
     ]
    }
   ],
   "source": [
    "\n",
    "def results_prediction(text_to_predict):\n",
    "    text_vectorized=vectorizer(text_to_predict)\n",
    "    predictions=model.predict(np.expand_dims(text_vectorized,0))\n",
    "    text=''\n",
    "    predictions.flatten()\n",
    "    \n",
    "    for index, col_value in enumerate(df.columns[2:]):\n",
    "        text+='{} : {}\\n\\n'.format(col_value.upper(), predictions[0][index]>0.5)\n",
    "        \n",
    "    return text    \n",
    "\n",
    "\n",
    "\n",
    "interface=gr.Interface(\n",
    "    fn=results_prediction,\n",
    "    inputs=gr.Textbox(lines=2, placeholder='enter the text for assessment'),\n",
    "    outputs='text'\n",
    ")\n",
    "    \n",
    "\n",
    "interface.launch(share=True)\n"
   ]
  },
  {
   "cell_type": "code",
   "execution_count": null,
   "id": "26e3dc3b",
   "metadata": {},
   "outputs": [],
   "source": []
  }
 ],
 "metadata": {
  "kernelspec": {
   "display_name": "Python 3 (ipykernel)",
   "language": "python",
   "name": "python3"
  },
  "language_info": {
   "codemirror_mode": {
    "name": "ipython",
    "version": 3
   },
   "file_extension": ".py",
   "mimetype": "text/x-python",
   "name": "python",
   "nbconvert_exporter": "python",
   "pygments_lexer": "ipython3",
   "version": "3.11.4"
  }
 },
 "nbformat": 4,
 "nbformat_minor": 5
}
